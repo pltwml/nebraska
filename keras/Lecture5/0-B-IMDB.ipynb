{
 "cells": [
  {
   "cell_type": "code",
   "execution_count": 1,
   "metadata": {},
   "outputs": [
    {
     "name": "stderr",
     "output_type": "stream",
     "text": [
      "Using TensorFlow backend.\n"
     ]
    }
   ],
   "source": [
    "from keras.datasets import imdb"
   ]
  },
  {
   "cell_type": "code",
   "execution_count": 5,
   "metadata": {},
   "outputs": [],
   "source": [
    "(train_data, train_labels), (test_data, test_labels) = imdb.load_data(num_words=10000)"
   ]
  },
  {
   "cell_type": "code",
   "execution_count": 6,
   "metadata": {},
   "outputs": [
    {
     "name": "stdout",
     "output_type": "stream",
     "text": [
      "(25000,) (25000,)\n"
     ]
    }
   ],
   "source": [
    "print(train_data.shape, test_data.shape)"
   ]
  },
  {
   "cell_type": "code",
   "execution_count": 3,
   "metadata": {},
   "outputs": [],
   "source": [
    "# Data comes encoded: each word has unique integer Id. Let us reverse this mapping and have look at the data.\n",
    "word_index = imdb.get_word_index()"
   ]
  },
  {
   "cell_type": "code",
   "execution_count": 7,
   "metadata": {},
   "outputs": [],
   "source": [
    "# Reversing the word index\n",
    "reverse_word_index = dict([(value, key) for (key, value) in word_index.items()])"
   ]
  },
  {
   "cell_type": "code",
   "execution_count": 8,
   "metadata": {},
   "outputs": [],
   "source": [
    "decoded_review = ' '.join([reverse_word_index.get(i-3,'?') for i in train_data[0]])"
   ]
  },
  {
   "cell_type": "code",
   "execution_count": 9,
   "metadata": {},
   "outputs": [
    {
     "data": {
      "text/plain": [
       "\"? this film was just brilliant casting location scenery story direction everyone's really suited the part they played and you could just imagine being there robert ? is an amazing actor and now the same being director ? father came from the same scottish island as myself so i loved the fact there was a real connection with this film the witty remarks throughout the film were great it was just brilliant so much that i bought the film as soon as it was released for ? and would recommend it to everyone to watch and the fly fishing was amazing really cried at the end it was so sad and you know what they say if you cry at a film it must have been good and this definitely was also ? to the two little boy's that played the ? of norman and paul they were just brilliant children are often left out of the ? list i think because the stars that play them all grown up are such a big profile for the whole film but these children are amazing and should be praised for what they have done don't you think the whole story was so lovely because it was true and was someone's life after all that was shared with us all\""
      ]
     },
     "execution_count": 9,
     "metadata": {},
     "output_type": "execute_result"
    }
   ],
   "source": [
    "decoded_review"
   ]
  },
  {
   "cell_type": "code",
   "execution_count": 10,
   "metadata": {},
   "outputs": [],
   "source": [
    "import numpy as np"
   ]
  },
  {
   "cell_type": "code",
   "execution_count": 12,
   "metadata": {},
   "outputs": [],
   "source": [
    "# We shall vectorize text data input. \n",
    "\n",
    "# We confine data to the most frequent 10000 words and turn reviews\n",
    "# into multi-hot encoding\n",
    "\n",
    "def vectorize_sequence(sequences, dimension=10000):\n",
    "    results = np.zeros((len(sequences), dimension))\n",
    "    for i, sequence in enumerate(sequences):\n",
    "        results[i, sequence] = 1.\n",
    "    return results"
   ]
  },
  {
   "cell_type": "code",
   "execution_count": 10,
   "metadata": {},
   "outputs": [],
   "source": [
    "#for i, sequence in enumerate(train_data):\n",
    "#    print(i, sequence)"
   ]
  },
  {
   "cell_type": "code",
   "execution_count": 14,
   "metadata": {},
   "outputs": [],
   "source": [
    "# Vectorizing data samples (texts) and casting binary labels as floats for the sigmoid comparison\n",
    "\n",
    "x_train = vectorize_sequence(train_data)\n",
    "x_test = vectorize_sequence(test_data)\n",
    "\n",
    "y_train = np.asarray(train_labels).astype('float32')\n",
    "y_test = np.asarray(test_labels).astype('float32')"
   ]
  },
  {
   "cell_type": "code",
   "execution_count": 15,
   "metadata": {},
   "outputs": [
    {
     "data": {
      "text/plain": [
       "(25000, 10000)"
      ]
     },
     "execution_count": 15,
     "metadata": {},
     "output_type": "execute_result"
    }
   ],
   "source": [
    "x_train.shape"
   ]
  },
  {
   "cell_type": "code",
   "execution_count": 16,
   "metadata": {},
   "outputs": [],
   "source": [
    "from keras import models, layers, optimizers, losses, metrics"
   ]
  },
  {
   "cell_type": "code",
   "execution_count": 18,
   "metadata": {},
   "outputs": [],
   "source": [
    "model = models.Sequential()\n",
    "model.add(layers.Dense(16, activation='relu', input_shape=(10000,)))\n",
    "\n",
    "# Introducind second Dense layer - DEEP LEARNING!!!\n",
    "model.add(layers.Dense(16, activation='relu'))\n",
    "\n",
    "# Single sigmoid output: binary classification probability\n",
    "model.add(layers.Dense(1, activation='sigmoid'))\n",
    "\n",
    "# Compile the model upon setup\n",
    "model.compile(optimizer='rmsprop',\n",
    "             loss='binary_crossentropy',\n",
    "             metrics=['acc']) \n",
    "\n",
    "# We can make explicit calls ans specify hyperparameters\n",
    "\n",
    "#model.compile(optimizer=optimizers.RMSprop(lr=0.001),\n",
    "#             loss=losses.binary_crossentropy,\n",
    "#             metrics=[metrics.binary_accuracy])\n"
   ]
  },
  {
   "cell_type": "code",
   "execution_count": 20,
   "metadata": {},
   "outputs": [],
   "source": [
    "# Preparing validation split:\n",
    "\n",
    "# Training optimizes parameters\n",
    "# Validation optimizes hyperparameters\n",
    "# Test checks the model architecture itself\n",
    "\n",
    "x_val = x_train[:10000]\n",
    "y_val = y_train[:10000]\n",
    "\n",
    "partial_x_train = x_train[10000:]\n",
    "partial_y_train = y_train[10000:]\n"
   ]
  },
  {
   "cell_type": "code",
   "execution_count": 21,
   "metadata": {},
   "outputs": [
    {
     "name": "stdout",
     "output_type": "stream",
     "text": [
      "Train on 15000 samples, validate on 10000 samples\n",
      "Epoch 1/20\n",
      "15000/15000 [==============================] - 2s - loss: 0.5084 - acc: 0.7825 - val_loss: 0.3825 - val_acc: 0.8593\n",
      "Epoch 2/20\n",
      "15000/15000 [==============================] - 2s - loss: 0.2976 - acc: 0.9048 - val_loss: 0.3097 - val_acc: 0.8811\n",
      "Epoch 3/20\n",
      "15000/15000 [==============================] - 2s - loss: 0.2181 - acc: 0.9296 - val_loss: 0.3092 - val_acc: 0.8756\n",
      "Epoch 4/20\n",
      "15000/15000 [==============================] - 2s - loss: 0.1770 - acc: 0.9413 - val_loss: 0.2747 - val_acc: 0.8914\n",
      "Epoch 5/20\n",
      "15000/15000 [==============================] - 2s - loss: 0.1398 - acc: 0.9553 - val_loss: 0.2782 - val_acc: 0.8909\n",
      "Epoch 6/20\n",
      "15000/15000 [==============================] - 2s - loss: 0.1162 - acc: 0.9632 - val_loss: 0.2948 - val_acc: 0.8883\n",
      "Epoch 7/20\n",
      "15000/15000 [==============================] - 2s - loss: 0.0955 - acc: 0.9710 - val_loss: 0.3225 - val_acc: 0.8830\n",
      "Epoch 8/20\n",
      "15000/15000 [==============================] - 2s - loss: 0.0816 - acc: 0.9763 - val_loss: 0.3430 - val_acc: 0.8774\n",
      "Epoch 9/20\n",
      "15000/15000 [==============================] - 2s - loss: 0.0664 - acc: 0.9826 - val_loss: 0.3552 - val_acc: 0.8817\n",
      "Epoch 10/20\n",
      "15000/15000 [==============================] - 2s - loss: 0.0531 - acc: 0.9866 - val_loss: 0.3904 - val_acc: 0.8782\n",
      "Epoch 11/20\n",
      "15000/15000 [==============================] - 2s - loss: 0.0465 - acc: 0.9887 - val_loss: 0.4070 - val_acc: 0.8781\n",
      "Epoch 12/20\n",
      "15000/15000 [==============================] - 2s - loss: 0.0343 - acc: 0.9928 - val_loss: 0.4507 - val_acc: 0.8719\n",
      "Epoch 13/20\n",
      "15000/15000 [==============================] - 2s - loss: 0.0271 - acc: 0.9945 - val_loss: 0.4719 - val_acc: 0.8714\n",
      "Epoch 14/20\n",
      "15000/15000 [==============================] - 2s - loss: 0.0213 - acc: 0.9965 - val_loss: 0.5427 - val_acc: 0.8660\n",
      "Epoch 15/20\n",
      "15000/15000 [==============================] - 2s - loss: 0.0154 - acc: 0.9984 - val_loss: 0.5362 - val_acc: 0.8726\n",
      "Epoch 16/20\n",
      "15000/15000 [==============================] - 2s - loss: 0.0134 - acc: 0.9983 - val_loss: 0.5770 - val_acc: 0.8685\n",
      "Epoch 17/20\n",
      "15000/15000 [==============================] - 2s - loss: 0.0120 - acc: 0.9980 - val_loss: 0.6015 - val_acc: 0.8689\n",
      "Epoch 18/20\n",
      "15000/15000 [==============================] - 2s - loss: 0.0061 - acc: 0.9997 - val_loss: 0.7055 - val_acc: 0.8545\n",
      "Epoch 19/20\n",
      "15000/15000 [==============================] - 2s - loss: 0.0079 - acc: 0.9988 - val_loss: 0.6739 - val_acc: 0.8667\n",
      "Epoch 20/20\n",
      "15000/15000 [==============================] - 2s - loss: 0.0033 - acc: 0.9999 - val_loss: 0.7123 - val_acc: 0.8657\n"
     ]
    }
   ],
   "source": [
    "# Fit the model with explicit validation data specification\n",
    "# The call returns History class instance with learning effects details\n",
    "\n",
    "history = model.fit(partial_x_train,\n",
    "                   partial_y_train,\n",
    "                   epochs=20,\n",
    "                   batch_size=512,\n",
    "                   validation_data=(x_val, y_val))"
   ]
  },
  {
   "cell_type": "code",
   "execution_count": 22,
   "metadata": {},
   "outputs": [
    {
     "data": {
      "text/plain": [
       "dict_keys(['val_loss', 'val_acc', 'loss', 'acc'])"
      ]
     },
     "execution_count": 22,
     "metadata": {},
     "output_type": "execute_result"
    }
   ],
   "source": [
    "# History is a dictionary\n",
    "history_dict = history.history\n",
    "history_dict.keys()"
   ]
  },
  {
   "cell_type": "code",
   "execution_count": 23,
   "metadata": {},
   "outputs": [
    {
     "data": {
      "image/png": "[encoded data removed]",
      "text/plain": [
       "<matplotlib.figure.Figure at 0x7f8f77f45240>"
      ]
     },
     "metadata": {},
     "output_type": "display_data"
    }
   ],
   "source": [
    "# Let us plot the training and validation loss\n",
    "import matplotlib.pyplot as plt\n",
    "\n",
    "loss_values = history_dict['loss']\n",
    "val_loss_values = history_dict['val_loss']\n",
    "\n",
    "epochs = range(1, len(loss_values)+1)\n",
    "\n",
    "plt.plot(epochs, loss_values, 'bo', label='Training loss')\n",
    "plt.plot(epochs, val_loss_values, 'b', label='Validation loss')\n",
    "plt.title('Training and validation loss')\n",
    "plt.xlabel('Epochs')\n",
    "plt.ylabel('Loss')\n",
    "plt.legend()\n",
    "\n",
    "plt.show()"
   ]
  },
  {
   "cell_type": "code",
   "execution_count": null,
   "metadata": {},
   "outputs": [],
   "source": [
    "history_dict.keys()"
   ]
  },
  {
   "cell_type": "code",
   "execution_count": 24,
   "metadata": {},
   "outputs": [
    {
     "data": {
      "image/png": "[encoded data removed]",
      "text/plain": [
       "<matplotlib.figure.Figure at 0x7f8f7da53710>"
      ]
     },
     "metadata": {},
     "output_type": "display_data"
    }
   ],
   "source": [
    "# Now let us observe accuracy on train and validation datasets\n",
    "plt.clf()\n",
    "\n",
    "acc_values = history_dict['acc']\n",
    "val_acc_values = history_dict['val_acc']\n",
    "\n",
    "plt.plot(epochs, acc_values, 'bo', label='Training acc')\n",
    "plt.plot(epochs, val_acc_values, 'b', label='Validation acc')\n",
    "plt.title('Training and validation acc')\n",
    "plt.xlabel('Epochs')\n",
    "plt.ylabel('Acc')\n",
    "plt.legend()\n",
    "\n",
    "plt.show()"
   ]
  },
  {
   "cell_type": "code",
   "execution_count": 25,
   "metadata": {},
   "outputs": [
    {
     "name": "stdout",
     "output_type": "stream",
     "text": [
      "25000/25000 [==============================] - 2s     \n"
     ]
    },
    {
     "data": {
      "text/plain": [
       "[0.77357011712789536, 0.85231999999999997]"
      ]
     },
     "execution_count": 25,
     "metadata": {},
     "output_type": "execute_result"
    }
   ],
   "source": [
    "# Final evaluation on the test data - no futher adjustments allowed\n",
    "results = model.evaluate(x_test, y_test)\n",
    "results"
   ]
  },
  {
   "cell_type": "code",
   "execution_count": 26,
   "metadata": {},
   "outputs": [
    {
     "data": {
      "text/plain": [
       "array([[  9.98819172e-01],\n",
       "       [  9.93136644e-01],\n",
       "       [  9.99993324e-01],\n",
       "       ..., \n",
       "       [  8.77415001e-01],\n",
       "       [  5.58610047e-08],\n",
       "       [  7.54545212e-01]], dtype=float32)"
      ]
     },
     "execution_count": 26,
     "metadata": {},
     "output_type": "execute_result"
    }
   ],
   "source": [
    "# Ultimate 'production' application of the trained model: inference (the prediction)\n",
    "model.predict(x_test)"
   ]
  },
  {
   "cell_type": "code",
   "execution_count": null,
   "metadata": {},
   "outputs": [],
   "source": []
  }
 ],
 "metadata": {
  "kernelspec": {
   "display_name": "Python 3.6 TF 1.2 DEV",
   "language": "python",
   "name": "devtf36"
  },
  "language_info": {
   "codemirror_mode": {
    "name": "ipython",
    "version": 3
   },
   "file_extension": ".py",
   "mimetype": "text/x-python",
   "name": "python",
   "nbconvert_exporter": "python",
   "pygments_lexer": "ipython3",
   "version": "3.6.1"
  }
 },
 "nbformat": 4,
 "nbformat_minor": 2
}
