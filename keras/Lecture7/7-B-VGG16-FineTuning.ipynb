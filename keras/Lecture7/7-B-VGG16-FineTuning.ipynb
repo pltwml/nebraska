{
 "cells": [
  {
   "cell_type": "markdown",
   "metadata": {},
   "source": [
    "---\n",
    "\n",
    "# However strange it may seem we can push the model even further\n",
    "\n",
    "# The technique of fine-tuning the pretrained network is the final frontier\n",
    "\n",
    "---\n"
   ]
  },
  {
   "cell_type": "markdown",
   "metadata": {},
   "source": [
    "---\n",
    "\n",
    "# The genetral idea is the following:\n",
    "\n",
    "## 1. Adjust the deep, top  convolutional layer(s)\n",
    "\n",
    "## 2. They represent weighs higly specialised to ImageNet problem\n",
    "\n",
    "## 3. In this way we can induce features more specific to our problem\n",
    "\n",
    "## 4. This will make it easier for the classifier to discriminate\n",
    "\n",
    "## 5. We must be careful however not to disturb the delicate balance of the trained last layer: \n",
    "\n",
    "## 6. It must by only FINE-TUNED\n",
    "\n",
    "## 7. The goal is to avoid pouring large gradients into the already trained network\n",
    "\n",
    "---\n",
    "\n",
    "---\n",
    "\n",
    "\n",
    "# The actual steps we will take are the following:\n",
    "\n",
    "## 1. Use the pretrained network with dataset augmentation\n",
    "\n",
    "## 2. Train the fresh classifier included on the top of the VGG16, as before\n",
    "\n",
    "## 3. UNFREEZE the last convolutional layer of VGG16\n",
    "\n",
    "## 4. Train the convolutional layers together with the pre-trained classifier\n",
    "\n",
    "## 5. PROFIT\n",
    "\n",
    "---\n"
   ]
  },
  {
   "cell_type": "markdown",
   "metadata": {},
   "source": [
    "---\n",
    "\n",
    "# We start as usual with dataset preparation\n",
    "\n",
    "---"
   ]
  },
  {
   "cell_type": "code",
   "execution_count": 4,
   "metadata": {},
   "outputs": [],
   "source": [
    "import os\n",
    "\n",
    "base_dir = '/Users/g0d/dev/data/DL2018/cats_dogs_small'\n",
    "\n",
    "train_dir = os.path.join(base_dir, 'train')\n",
    "validation_dir = os.path.join(base_dir, 'validation')\n"
   ]
  },
  {
   "cell_type": "code",
   "execution_count": 5,
   "metadata": {},
   "outputs": [],
   "source": [
    "from keras.preprocessing.image import ImageDataGenerator"
   ]
  },
  {
   "cell_type": "code",
   "execution_count": 7,
   "metadata": {},
   "outputs": [
    {
     "name": "stdout",
     "output_type": "stream",
     "text": [
      "Found 2000 images belonging to 2 classes.\n",
      "Found 1000 images belonging to 2 classes.\n"
     ]
    }
   ],
   "source": [
    "train_datagen = ImageDataGenerator(\n",
    "    rescale = 1./255,\n",
    "    rotation_range = 40,\n",
    "    width_shift_range = 0.2,\n",
    "    height_shift_range = 0.2,\n",
    "    shear_range = 0.2,\n",
    "    zoom_range = 0.2,\n",
    "    horizontal_flip = True,\n",
    "    fill_mode = 'nearest')\n",
    "\n",
    "test_datagen = ImageDataGenerator(\n",
    "    rescale = 1./255)\n",
    "\n",
    "\n",
    "train_generator = train_datagen.flow_from_directory(\n",
    "    train_dir,\n",
    "    target_size = (150, 150),\n",
    "    batch_size = 20,\n",
    "    class_mode = 'binary')\n",
    "\n",
    "validation_generator = test_datagen.flow_from_directory(\n",
    "    validation_dir,\n",
    "    target_size = (150, 150),\n",
    "    batch_size = 20,\n",
    "    class_mode = 'binary')\n",
    "\n"
   ]
  },
  {
   "cell_type": "markdown",
   "metadata": {},
   "source": [
    "---\n",
    "\n",
    "# We define the convolutional base as before\n",
    "\n",
    "---"
   ]
  },
  {
   "cell_type": "code",
   "execution_count": 8,
   "metadata": {
    "scrolled": true
   },
   "outputs": [],
   "source": [
    "from keras.applications import VGG16\n",
    "from keras import models, layers, optimizers"
   ]
  },
  {
   "cell_type": "code",
   "execution_count": 3,
   "metadata": {},
   "outputs": [],
   "source": [
    "conv_base = VGG16(\n",
    "    weights = 'imagenet',\n",
    "    include_top = False,\n",
    "    input_shape = (150, 150, 3))"
   ]
  },
  {
   "cell_type": "markdown",
   "metadata": {},
   "source": [
    "---\n",
    "\n",
    "# The fresh classifier training with frozen convolutional base:\n",
    "\n",
    "---"
   ]
  },
  {
   "cell_type": "code",
   "execution_count": 5,
   "metadata": {},
   "outputs": [],
   "source": [
    "model = models.Sequential()\n",
    "\n",
    "model.add(conv_base)\n",
    "model.add(layers.Flatten())\n",
    "\n",
    "model.add(layers.Dense(256, activation='relu'))\n",
    "model.add(layers.Dense(1, activation='sigmoid'))"
   ]
  },
  {
   "cell_type": "code",
   "execution_count": null,
   "metadata": {},
   "outputs": [],
   "source": [
    "\n",
    "conv_base.trainable = False\n"
   ]
  },
  {
   "cell_type": "code",
   "execution_count": null,
   "metadata": {},
   "outputs": [],
   "source": [
    " model.compile(loss = 'binary_crossentropy',\n",
    "              optimizer = optimizers.RMSprop(lr=2e-5),\n",
    "              metrics = ['acc'])"
   ]
  },
  {
   "cell_type": "markdown",
   "metadata": {},
   "source": [
    "---\n",
    "\n",
    "# At this point we have classifier suitable for our Dogs vs Cats problem\n",
    "\n",
    "---"
   ]
  },
  {
   "cell_type": "markdown",
   "metadata": {},
   "source": [
    "---\n",
    "\n",
    "# Next we need to perform the unfreezing of the convolutional layer(s)\n",
    "\n",
    "# Let's have a quick look at their names:\n",
    "\n",
    "---"
   ]
  },
  {
   "cell_type": "code",
   "execution_count": 9,
   "metadata": {},
   "outputs": [
    {
     "data": {
      "text/plain": [
       "([<keras.engine.input_layer.InputLayer at 0x108755208>,\n",
       "  <keras.layers.convolutional.Conv2D at 0x128cb4668>,\n",
       "  <keras.layers.convolutional.Conv2D at 0x128cb44e0>,\n",
       "  <keras.layers.pooling.MaxPooling2D at 0x128ce1400>,\n",
       "  <keras.layers.convolutional.Conv2D at 0x128ce1a58>,\n",
       "  <keras.layers.convolutional.Conv2D at 0x128d22128>,\n",
       "  <keras.layers.pooling.MaxPooling2D at 0x128d3c080>,\n",
       "  <keras.layers.convolutional.Conv2D at 0x128d3c630>,\n",
       "  <keras.layers.convolutional.Conv2D at 0x128d5b518>,\n",
       "  <keras.layers.convolutional.Conv2D at 0x128d740f0>,\n",
       "  <keras.layers.pooling.MaxPooling2D at 0x128d91438>,\n",
       "  <keras.layers.convolutional.Conv2D at 0x128d91e48>,\n",
       "  <keras.layers.convolutional.Conv2D at 0x128dcc278>,\n",
       "  <keras.layers.convolutional.Conv2D at 0x128de8320>,\n",
       "  <keras.layers.pooling.MaxPooling2D at 0x128e04198>,\n",
       "  <keras.layers.convolutional.Conv2D at 0x128e04eb8>,\n",
       "  <keras.layers.convolutional.Conv2D at 0x128e39048>,\n",
       "  <keras.layers.convolutional.Conv2D at 0x128e58438>,\n",
       "  <keras.layers.pooling.MaxPooling2D at 0x128e79400>],\n",
       " 19)"
      ]
     },
     "execution_count": 9,
     "metadata": {},
     "output_type": "execute_result"
    }
   ],
   "source": [
    "conv_base.layers, len(conv_base.layers)"
   ]
  },
  {
   "cell_type": "markdown",
   "metadata": {},
   "source": [
    "---\n",
    "\n",
    "# We will release all the weights in the last convolutional block\n",
    "\n",
    "# Observe how we access individual layers by iterator\n",
    "\n",
    "---"
   ]
  },
  {
   "cell_type": "code",
   "execution_count": 12,
   "metadata": {},
   "outputs": [],
   "source": [
    "# Release the Kraken!\n",
    "conv_base.trainable = True\n",
    "\n",
    "# An auxiliary flag\n",
    "set_trainable = False\n",
    "\n",
    "# Layer-wise iterator\n",
    "for layer in conv_base.layers:\n",
    "    if layer.name == 'block5_conv1':\n",
    "        set_trainable = True\n",
    "    if set_trainable:\n",
    "        # THE INSTRUCTION SWITCHIUNG THE INDIVIDUAL LAYER PROPERTY\n",
    "        layer.trainable = True\n",
    "    else:\n",
    "        set_trainable = False\n",
    "    "
   ]
  },
  {
   "cell_type": "markdown",
   "metadata": {},
   "source": [
    "---\n",
    "\n",
    "# We compile and train the prepared network\n",
    "\n",
    "# We use small learningh rate to avoid distorting the classifier too much!\n",
    "\n",
    "---"
   ]
  },
  {
   "cell_type": "code",
   "execution_count": null,
   "metadata": {
    "scrolled": true
   },
   "outputs": [],
   "source": [
    "model.compile(loss = 'binary_crossentropy',\n",
    "              optimizer = optimizers.RMSprop(lr=1e-5),\n",
    "              metrics = ['acc'])"
   ]
  },
  {
   "cell_type": "code",
   "execution_count": null,
   "metadata": {},
   "outputs": [],
   "source": [
    "history = model.fit_generator(\n",
    "    train_generator,\n",
    "    steps_per_epoch = 100,\n",
    "    epochs = 30,\n",
    "    validation_data = validation_generator,\n",
    "    validation_steps = 50\n",
    "    )"
   ]
  },
  {
   "cell_type": "markdown",
   "metadata": {},
   "source": [
    "---\n",
    "\n",
    "# Ultimately we achieve validation accuracy of 96%!\n",
    "\n",
    "\n",
    "# Still based on data augmented 2000-strong dataset\n",
    "\n",
    "---\n"
   ]
  },
  {
   "cell_type": "markdown",
   "metadata": {},
   "source": [
    "---\n",
    "\n",
    "# For later use on a powerful GPU machine: observe the training!\n",
    "\n",
    "---"
   ]
  },
  {
   "cell_type": "code",
   "execution_count": 11,
   "metadata": {},
   "outputs": [],
   "source": [
    "hist = history.history\n",
    "acc = hist['acc']\n",
    "val_acc = hist['val_acc']\n",
    "loss = hist['loss']\n",
    "val_loss = hist['val_loss']\n",
    "epochs = range(1, len(acc)+1)"
   ]
  },
  {
   "cell_type": "code",
   "execution_count": null,
   "metadata": {
    "scrolled": true
   },
   "outputs": [],
   "source": [
    "import matplotlib.pyplot as plt\n",
    "\n",
    "plt.plot(epochs, acc, 'bo', label='Train Accuracy' )\n",
    "plt.plot(epochs, val_acc,'b', label='Validation Accuracy')\n",
    "plt.xlabel('epochs')\n",
    "plt.ylabel('Accuracy')\n",
    "plt.title('Training and Validation Accuracy')\n",
    "plt.legend()\n",
    "\n",
    "plt.figure()\n",
    "\n",
    "plt.plot(epochs, loss, 'bo', label='Train Loss')\n",
    "plt.plot(epochs, val_loss,'b',  label='Validation Loss')\n",
    "plt.xlabel('epochs')\n",
    "plt.ylabel('Loss')\n",
    "plt.title('Training and Validation Loss')\n",
    "plt.legend()\n",
    "\n",
    "plt.show()"
   ]
  },
  {
   "cell_type": "code",
   "execution_count": null,
   "metadata": {},
   "outputs": [],
   "source": []
  }
 ],
 "metadata": {
  "kernelspec": {
   "display_name": "Python 3",
   "language": "python",
   "name": "python3"
  },
  "language_info": {
   "codemirror_mode": {
    "name": "ipython",
    "version": 3
   },
   "file_extension": ".py",
   "mimetype": "text/x-python",
   "name": "python",
   "nbconvert_exporter": "python",
   "pygments_lexer": "ipython3",
   "version": "3.6.6"
  }
 },
 "nbformat": 4,
 "nbformat_minor": 2
}
