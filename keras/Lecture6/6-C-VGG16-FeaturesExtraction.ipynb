{
 "cells": [
  {
   "cell_type": "code",
   "execution_count": 1,
   "metadata": {},
   "outputs": [
    {
     "name": "stderr",
     "output_type": "stream",
     "text": [
      "Using TensorFlow backend.\n"
     ]
    }
   ],
   "source": [
    "from keras.applications import VGG16"
   ]
  },
  {
   "cell_type": "code",
   "execution_count": 2,
   "metadata": {},
   "outputs": [],
   "source": [
    "conv_base = VGG16(\n",
    "    weights = 'imagenet',\n",
    "    include_top = False,\n",
    "    input_shape = (150, 150, 3))"
   ]
  },
  {
   "cell_type": "code",
   "execution_count": 5,
   "metadata": {},
   "outputs": [
    {
     "name": "stdout",
     "output_type": "stream",
     "text": [
      "_________________________________________________________________\n",
      "Layer (type)                 Output Shape              Param #   \n",
      "=================================================================\n",
      "input_1 (InputLayer)         (None, 150, 150, 3)       0         \n",
      "_________________________________________________________________\n",
      "block1_conv1 (Conv2D)        (None, 150, 150, 64)      1792      \n",
      "_________________________________________________________________\n",
      "block1_conv2 (Conv2D)        (None, 150, 150, 64)      36928     \n",
      "_________________________________________________________________\n",
      "block1_pool (MaxPooling2D)   (None, 75, 75, 64)        0         \n",
      "_________________________________________________________________\n",
      "block2_conv1 (Conv2D)        (None, 75, 75, 128)       73856     \n",
      "_________________________________________________________________\n",
      "block2_conv2 (Conv2D)        (None, 75, 75, 128)       147584    \n",
      "_________________________________________________________________\n",
      "block2_pool (MaxPooling2D)   (None, 37, 37, 128)       0         \n",
      "_________________________________________________________________\n",
      "block3_conv1 (Conv2D)        (None, 37, 37, 256)       295168    \n",
      "_________________________________________________________________\n",
      "block3_conv2 (Conv2D)        (None, 37, 37, 256)       590080    \n",
      "_________________________________________________________________\n",
      "block3_conv3 (Conv2D)        (None, 37, 37, 256)       590080    \n",
      "_________________________________________________________________\n",
      "block3_pool (MaxPooling2D)   (None, 18, 18, 256)       0         \n",
      "_________________________________________________________________\n",
      "block4_conv1 (Conv2D)        (None, 18, 18, 512)       1180160   \n",
      "_________________________________________________________________\n",
      "block4_conv2 (Conv2D)        (None, 18, 18, 512)       2359808   \n",
      "_________________________________________________________________\n",
      "block4_conv3 (Conv2D)        (None, 18, 18, 512)       2359808   \n",
      "_________________________________________________________________\n",
      "block4_pool (MaxPooling2D)   (None, 9, 9, 512)         0         \n",
      "_________________________________________________________________\n",
      "block5_conv1 (Conv2D)        (None, 9, 9, 512)         2359808   \n",
      "_________________________________________________________________\n",
      "block5_conv2 (Conv2D)        (None, 9, 9, 512)         2359808   \n",
      "_________________________________________________________________\n",
      "block5_conv3 (Conv2D)        (None, 9, 9, 512)         2359808   \n",
      "_________________________________________________________________\n",
      "block5_pool (MaxPooling2D)   (None, 4, 4, 512)         0         \n",
      "=================================================================\n",
      "Total params: 14,714,688\n",
      "Trainable params: 14,714,688\n",
      "Non-trainable params: 0\n",
      "_________________________________________________________________\n"
     ]
    }
   ],
   "source": [
    "conv_base.summary()"
   ]
  },
  {
   "cell_type": "code",
   "execution_count": 3,
   "metadata": {},
   "outputs": [],
   "source": [
    "from keras.utils.vis_utils import plot_model\n",
    "plot_model(conv_base, to_file='VGG16_plot.png', show_shapes=True, show_layer_names=True)"
   ]
  },
  {
   "cell_type": "code",
   "execution_count": 6,
   "metadata": {},
   "outputs": [
    {
     "name": "stdout",
     "output_type": "stream",
     "text": [
      "Found 2000 images belonging to 2 classes.\n",
      "Found 1000 images belonging to 2 classes.\n",
      "Found 1000 images belonging to 2 classes.\n"
     ]
    }
   ],
   "source": [
    "import os\n",
    "import numpy as np\n",
    "from keras.preprocessing.image import ImageDataGenerator\n",
    "\n",
    "base_dir = '/Users/g0d/dev/data/DL2018/cats_dogs_small'\n",
    "\n",
    "train_dir = os.path.join(base_dir, 'train')\n",
    "validation_dir = os.path.join(base_dir, 'validation')\n",
    "test_dir = os.path.join(base_dir, 'test')\n",
    "\n",
    "datagen = ImageDataGenerator(rescale = 1./255)\n",
    "batch_size = 20\n",
    "\n",
    "def extract_features(directory, sample_count):\n",
    "    features = np.zeros(shape=(sample_count, 4, 4, 512))\n",
    "    labels = np.zeros(shape=(sample_count))\n",
    "    generator = datagen.flow_from_directory(\n",
    "        directory,\n",
    "        target_size = (150, 150),\n",
    "        batch_size = batch_size,\n",
    "        class_mode = 'binary')\n",
    "    \n",
    "    i=0\n",
    "    for inputs_batch, labels_batch in generator:\n",
    "        features_batch = conv_base.predict(inputs_batch)\n",
    "        features[i * batch_size:(i+1) * batch_size] = features_batch\n",
    "        labels[i * batch_size:(i+1) * batch_size] = labels_batch\n",
    "        i+=1\n",
    "        if i * batch_size >= sample_count:\n",
    "            break\n",
    "    return features, labels\n",
    "\n",
    "train_features, train_labels = extract_features(train_dir, 2000)\n",
    "validation_features, validation_labels = extract_features(validation_dir, 1000)\n",
    "test_features, test_labels = extract_features(test_dir, 1000)\n",
    "\n",
    "\n",
    "        \n"
   ]
  },
  {
   "cell_type": "code",
   "execution_count": 7,
   "metadata": {},
   "outputs": [],
   "source": [
    "# DENSE CLASSIFIER ACCEPTS FLAT INPUT\n",
    "\n",
    "train_features = np.reshape(train_features, (2000, 4 * 4 * 512))\n",
    "validation_features = np.reshape(validation_features, (1000, 4 * 4 * 512))\n",
    "test_features = np.reshape(test_features, (1000, 4 * 4 * 512))\n",
    "\n"
   ]
  },
  {
   "cell_type": "code",
   "execution_count": 8,
   "metadata": {},
   "outputs": [],
   "source": [
    "from keras import models, layers, optimizers\n",
    "\n",
    "model = models.Sequential()\n",
    "\n",
    "model.add(layers.Dense(256, activation='relu', input_dim = 4 * 4 * 512))\n",
    "model.add(layers.Dropout(0.5))\n",
    "model.add(layers.Dense(1, activation='sigmoid'))\n",
    "\n",
    "model.compile(optimizer=optimizers.RMSprop(lr=2e-5),\n",
    "              loss='binary_crossentropy',\n",
    "              metrics=['acc'])"
   ]
  },
  {
   "cell_type": "code",
   "execution_count": 9,
   "metadata": {},
   "outputs": [
    {
     "name": "stdout",
     "output_type": "stream",
     "text": [
      "_________________________________________________________________\n",
      "Layer (type)                 Output Shape              Param #   \n",
      "=================================================================\n",
      "dense_1 (Dense)              (None, 256)               2097408   \n",
      "_________________________________________________________________\n",
      "dropout_1 (Dropout)          (None, 256)               0         \n",
      "_________________________________________________________________\n",
      "dense_2 (Dense)              (None, 1)                 257       \n",
      "=================================================================\n",
      "Total params: 2,097,665\n",
      "Trainable params: 2,097,665\n",
      "Non-trainable params: 0\n",
      "_________________________________________________________________\n"
     ]
    }
   ],
   "source": [
    "model.summary()\n"
   ]
  },
  {
   "cell_type": "code",
   "execution_count": 10,
   "metadata": {},
   "outputs": [
    {
     "name": "stdout",
     "output_type": "stream",
     "text": [
      "Train on 2000 samples, validate on 1000 samples\n",
      "Epoch 1/30\n",
      "2000/2000 [==============================] - 2s 868us/step - loss: 0.6138 - acc: 0.6600 - val_loss: 0.4573 - val_acc: 0.8230\n",
      "Epoch 2/30\n",
      "2000/2000 [==============================] - 1s 742us/step - loss: 0.4317 - acc: 0.8085 - val_loss: 0.3696 - val_acc: 0.8690\n",
      "Epoch 3/30\n",
      "2000/2000 [==============================] - 1s 735us/step - loss: 0.3490 - acc: 0.8550 - val_loss: 0.3285 - val_acc: 0.8730\n",
      "Epoch 4/30\n",
      "2000/2000 [==============================] - 1s 735us/step - loss: 0.3229 - acc: 0.8700 - val_loss: 0.3004 - val_acc: 0.8890\n",
      "Epoch 5/30\n",
      "2000/2000 [==============================] - 1s 735us/step - loss: 0.2912 - acc: 0.8810 - val_loss: 0.2854 - val_acc: 0.8980\n",
      "Epoch 6/30\n",
      "2000/2000 [==============================] - 1s 735us/step - loss: 0.2645 - acc: 0.9000 - val_loss: 0.2740 - val_acc: 0.9030\n",
      "Epoch 7/30\n",
      "2000/2000 [==============================] - 1s 733us/step - loss: 0.2419 - acc: 0.9050 - val_loss: 0.2903 - val_acc: 0.8740\n",
      "Epoch 8/30\n",
      "2000/2000 [==============================] - 2s 755us/step - loss: 0.2335 - acc: 0.9060 - val_loss: 0.2575 - val_acc: 0.9010\n",
      "Epoch 9/30\n",
      "2000/2000 [==============================] - 2s 754us/step - loss: 0.2253 - acc: 0.9180 - val_loss: 0.2530 - val_acc: 0.9000\n",
      "Epoch 10/30\n",
      "2000/2000 [==============================] - 1s 746us/step - loss: 0.2015 - acc: 0.9220 - val_loss: 0.2594 - val_acc: 0.8920\n",
      "Epoch 11/30\n",
      "2000/2000 [==============================] - 1s 736us/step - loss: 0.1958 - acc: 0.9305 - val_loss: 0.2454 - val_acc: 0.9090\n",
      "Epoch 12/30\n",
      "2000/2000 [==============================] - 1s 736us/step - loss: 0.1857 - acc: 0.9370 - val_loss: 0.2510 - val_acc: 0.8940\n",
      "Epoch 13/30\n",
      "2000/2000 [==============================] - 1s 734us/step - loss: 0.1801 - acc: 0.9345 - val_loss: 0.2412 - val_acc: 0.9080\n",
      "Epoch 14/30\n",
      "2000/2000 [==============================] - 1s 736us/step - loss: 0.1708 - acc: 0.9390 - val_loss: 0.2461 - val_acc: 0.8940\n",
      "Epoch 15/30\n",
      "2000/2000 [==============================] - 1s 737us/step - loss: 0.1616 - acc: 0.9435 - val_loss: 0.2412 - val_acc: 0.9050\n",
      "Epoch 16/30\n",
      "2000/2000 [==============================] - 2s 757us/step - loss: 0.1580 - acc: 0.9445 - val_loss: 0.2438 - val_acc: 0.8980\n",
      "Epoch 17/30\n",
      "2000/2000 [==============================] - 2s 751us/step - loss: 0.1535 - acc: 0.9430 - val_loss: 0.2441 - val_acc: 0.8990\n",
      "Epoch 18/30\n",
      "2000/2000 [==============================] - 1s 735us/step - loss: 0.1480 - acc: 0.9465 - val_loss: 0.2352 - val_acc: 0.9080\n",
      "Epoch 19/30\n",
      "2000/2000 [==============================] - 1s 735us/step - loss: 0.1345 - acc: 0.9555 - val_loss: 0.2382 - val_acc: 0.9040\n",
      "Epoch 20/30\n",
      "2000/2000 [==============================] - 1s 743us/step - loss: 0.1256 - acc: 0.9545 - val_loss: 0.2332 - val_acc: 0.9040\n",
      "Epoch 21/30\n",
      "2000/2000 [==============================] - 1s 735us/step - loss: 0.1295 - acc: 0.9570 - val_loss: 0.2328 - val_acc: 0.9010\n",
      "Epoch 22/30\n",
      "2000/2000 [==============================] - 1s 736us/step - loss: 0.1181 - acc: 0.9620 - val_loss: 0.2337 - val_acc: 0.9040\n",
      "Epoch 23/30\n",
      "2000/2000 [==============================] - 1s 738us/step - loss: 0.1169 - acc: 0.9630 - val_loss: 0.2319 - val_acc: 0.9040\n",
      "Epoch 24/30\n",
      "2000/2000 [==============================] - 1s 738us/step - loss: 0.1064 - acc: 0.9655 - val_loss: 0.2426 - val_acc: 0.9020\n",
      "Epoch 25/30\n",
      "2000/2000 [==============================] - 1s 734us/step - loss: 0.1091 - acc: 0.9610 - val_loss: 0.2388 - val_acc: 0.9040\n",
      "Epoch 26/30\n",
      "2000/2000 [==============================] - 2s 751us/step - loss: 0.1036 - acc: 0.9625 - val_loss: 0.2340 - val_acc: 0.9030\n",
      "Epoch 27/30\n",
      "2000/2000 [==============================] - 1s 738us/step - loss: 0.1006 - acc: 0.9625 - val_loss: 0.2353 - val_acc: 0.9020\n",
      "Epoch 28/30\n",
      "2000/2000 [==============================] - 1s 731us/step - loss: 0.0925 - acc: 0.9730 - val_loss: 0.2404 - val_acc: 0.9030\n",
      "Epoch 29/30\n",
      "2000/2000 [==============================] - 1s 736us/step - loss: 0.0918 - acc: 0.9690 - val_loss: 0.2367 - val_acc: 0.9010\n",
      "Epoch 30/30\n",
      "2000/2000 [==============================] - 1s 747us/step - loss: 0.0871 - acc: 0.9730 - val_loss: 0.2416 - val_acc: 0.9020\n",
      "--- Total 44.87037396430969 seconds ---\n"
     ]
    }
   ],
   "source": [
    "import time\n",
    "\n",
    "start_time = time.time()\n",
    "\n",
    "history = model.fit(train_features, train_labels,\n",
    "                   epochs = 30,\n",
    "                   batch_size = 20,\n",
    "                   validation_data=(validation_features, validation_labels))\n",
    "\n",
    "print(\"--- Total %s seconds ---\" % (time.time() - start_time))\n",
    "\n"
   ]
  },
  {
   "cell_type": "code",
   "execution_count": null,
   "metadata": {},
   "outputs": [],
   "source": [
    "# 0.9 vs 0.8 acc in much less time!"
   ]
  },
  {
   "cell_type": "code",
   "execution_count": 11,
   "metadata": {},
   "outputs": [],
   "source": [
    "hist = history.history\n",
    "acc = hist['acc']\n",
    "val_acc = hist['val_acc']\n",
    "loss = hist['loss']\n",
    "val_loss = hist['val_loss']\n",
    "epochs = range(1, len(acc)+1)"
   ]
  },
  {
   "cell_type": "code",
   "execution_count": 11,
   "metadata": {},
   "outputs": [
    {
     "data": {
      "image/png": "[encoded data removed]",
      "text/plain": [
       "<Figure size 432x288 with 1 Axes>"
      ]
     },
     "metadata": {
      "needs_background": "light"
     },
     "output_type": "display_data"
    },
    {
     "data": {
      "image/png": "[encoded data removed]",
      "text/plain": [
       "<Figure size 432x288 with 1 Axes>"
      ]
     },
     "metadata": {
      "needs_background": "light"
     },
     "output_type": "display_data"
    }
   ],
   "source": [
    "import matplotlib.pyplot as plt\n",
    "\n",
    "plt.plot(epochs, acc, 'bo', label='Train Accuracy' )\n",
    "plt.plot(epochs, val_acc,'b', label='Validation Accuracy')\n",
    "plt.xlabel('epochs')\n",
    "plt.ylabel('Accuracy')\n",
    "plt.title('Training and Validation Accuracy')\n",
    "plt.legend()\n",
    "\n",
    "plt.figure()\n",
    "\n",
    "plt.plot(epochs, loss, 'bo', label='Train Loss')\n",
    "plt.plot(epochs, val_loss,'b',  label='Validation Loss')\n",
    "plt.xlabel('epochs')\n",
    "plt.ylabel('Loss')\n",
    "plt.title('Training and Validation Loss')\n",
    "plt.legend()\n",
    "\n",
    "plt.show()"
   ]
  },
  {
   "cell_type": "code",
   "execution_count": null,
   "metadata": {},
   "outputs": [],
   "source": []
  }
 ],
 "metadata": {
  "kernelspec": {
   "display_name": "Python 3",
   "language": "python",
   "name": "python3"
  },
  "language_info": {
   "codemirror_mode": {
    "name": "ipython",
    "version": 3
   },
   "file_extension": ".py",
   "mimetype": "text/x-python",
   "name": "python",
   "nbconvert_exporter": "python",
   "pygments_lexer": "ipython3",
   "version": "3.6.6"
  }
 },
 "nbformat": 4,
 "nbformat_minor": 2
}
